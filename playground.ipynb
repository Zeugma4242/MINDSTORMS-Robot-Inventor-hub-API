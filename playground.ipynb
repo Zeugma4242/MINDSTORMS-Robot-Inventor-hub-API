{
 "cells": [
  {
   "cell_type": "code",
   "execution_count": 1,
   "metadata": {},
   "outputs": [],
   "source": [
    "import docparser"
   ]
  },
  {
   "cell_type": "code",
   "execution_count": 2,
   "metadata": {},
   "outputs": [],
   "source": [
    "s = docparser.soup"
   ]
  },
  {
   "cell_type": "code",
   "execution_count": 7,
   "metadata": {},
   "outputs": [],
   "source": [
    "class_tag = s.find(\"dl\", class_=\"py class\")"
   ]
  },
  {
   "cell_type": "code",
   "execution_count": 12,
   "metadata": {},
   "outputs": [],
   "source": [
    "class_code = f''''\n",
    "class {class_tag.dt['id']}():\n",
    "    \"\"\"{class_tag.dd.p.text}\n",
    "    \"\"\"\n",
    "'''"
   ]
  },
  {
   "cell_type": "code",
   "execution_count": 15,
   "metadata": {},
   "outputs": [
    {
     "name": "stdout",
     "output_type": "stream",
     "text": [
      "'\n",
      "class Device():\n",
      "    \"\"\"Read values from a Powered Up device and configure its modes.\n",
      "    \"\"\"\n",
      "\n"
     ]
    }
   ],
   "source": [
    "print(class_code)"
   ]
  },
  {
   "cell_type": "code",
   "execution_count": 26,
   "metadata": {},
   "outputs": [],
   "source": [
    "method_code = \"\"\n",
    "for method in class_tag.find_all(\"dl\", class_=\"py method\"):\n",
    "    method_code += f'''\n",
    "    def {method.dt.text.strip()}\n",
    "        \"\"\"{method.dd.text.strip()}\n",
    "        \"\"\"\n",
    "        pass\n",
    "    '''"
   ]
  },
  {
   "cell_type": "code",
   "execution_count": 27,
   "metadata": {},
   "outputs": [
    {
     "name": "stdout",
     "output_type": "stream",
     "text": [
      "\n",
      "    def get(format: Optional[int]) → list¶\n",
      "        \"\"\"Gets the values that the active device\n",
      "mode provides.\n",
      "\n",
      "Parameters\n",
      "format – Format of the data. Choose\n",
      "FORMAT_RAW,\n",
      "FORMAT_PCT, or\n",
      "FORMAT_SI.\n",
      "\n",
      "Returns\n",
      "Values or measurements representing the device state.\n",
      "        \"\"\"\n",
      "        pass\n",
      "    \n",
      "    def mode(mode: int) → None¶\n",
      "        \"\"\"Configures the device mode or multi-mode.\n",
      "Most Powered Up devices can work in different modes. Each mode makes it\n",
      "do or measure different things. After selecting one mode or a list of\n",
      "modes, the corresponding measured values are accessible via the\n",
      "get method.\n",
      "Each mode can provide one or more values. For each mode in a multi-mode\n",
      "list, you must select which value of that mode you want.\n",
      "For example, to read value 0 of mode 0 as well as values 2\n",
      "and 3 of mode 5, the mode argument\n",
      "is: [(0, 0), (5, 2), (5, 3)].\n",
      "See Port.info to learn\n",
      "which modes can be combined.\n",
      "Incorrect arguments or incompatible mode settings will be ignored\n",
      "without errors.\n",
      "\n",
      "Parameters\n",
      "\n",
      "mode – A single mode integer or a list of multi-mode tuples.\n",
      "data – Data to write to the selected mode. When using this argument,\n",
      "modes must be a single integer.\n",
      "\n",
      "\n",
      "Returns\n",
      "When setting the mode, it returns None. If you don’t give any\n",
      "arguments, this returns the currently active mode.\n",
      "        \"\"\"\n",
      "        pass\n",
      "    \n",
      "    def pwm(value: int) → None¶\n",
      "        \"\"\"Applies a PWM signal to the power pins of the port or device.\n",
      "A PWM value of 0 has the same effect\n",
      "as float().\n",
      "\n",
      "Parameters\n",
      "value – PWM value between -100 and +100.\n",
      "The polarity of the PWM signal matches the sign of the value.\n",
      "A value of 0 stops the PWM signal and leaves the port driver\n",
      "in the floating state.\n",
      "        \"\"\"\n",
      "        pass\n",
      "    \n",
      "    def write_direct(data: bytes) → None¶\n",
      "        \"\"\"Sends a message to the device using the wired Powered Up protocol.\n",
      "The data must be formatted using the Powered Up specification, which\n",
      "may include a command or message type and a payload.\n",
      "The required checksum will be added automatically.\n",
      "\n",
      "Parameters\n",
      "data – The Powered Up data message. Must not exceed 9 bytes.\n",
      "        \"\"\"\n",
      "        pass\n",
      "    \n"
     ]
    }
   ],
   "source": [
    "print(method_code)"
   ]
  },
  {
   "cell_type": "code",
   "execution_count": 33,
   "metadata": {},
   "outputs": [
    {
     "ename": "AttributeError",
     "evalue": "module 'docparser' has no attribute '__signature__'",
     "output_type": "error",
     "traceback": [
      "\u001b[0;31m---------------------------------------------------------------------------\u001b[0m",
      "\u001b[0;31mAttributeError\u001b[0m                            Traceback (most recent call last)",
      "\u001b[0;32m/var/folders/5h/7lt624q90nq8q3vczx536k000000gp/T/ipykernel_24049/312564776.py\u001b[0m in \u001b[0;36m<module>\u001b[0;34m\u001b[0m\n\u001b[0;32m----> 1\u001b[0;31m \u001b[0mdocparser\u001b[0m\u001b[0;34m.\u001b[0m\u001b[0m__signature__\u001b[0m\u001b[0;34m\u001b[0m\u001b[0;34m\u001b[0m\u001b[0m\n\u001b[0m",
      "\u001b[0;31mAttributeError\u001b[0m: module 'docparser' has no attribute '__signature__'"
     ]
    }
   ],
   "source": [
    "docparser.__signature__"
   ]
  },
  {
   "cell_type": "code",
   "execution_count": 34,
   "metadata": {},
   "outputs": [],
   "source": [
    "import inspect"
   ]
  },
  {
   "cell_type": "code",
   "execution_count": 37,
   "metadata": {},
   "outputs": [
    {
     "data": {
      "text/plain": [
       "<Signature (*args, **kwargs)>"
      ]
     },
     "execution_count": 37,
     "metadata": {},
     "output_type": "execute_result"
    }
   ],
   "source": [
    "inspect.signature(docparser.soup)"
   ]
  },
  {
   "cell_type": "code",
   "execution_count": null,
   "metadata": {},
   "outputs": [],
   "source": []
  }
 ],
 "metadata": {
  "interpreter": {
   "hash": "a0a5145e6c304e2a9afaf5b930a2955b950bd4b81fe94f7c42930f43f42762eb"
  },
  "kernelspec": {
   "display_name": "Python 3.10.0 64-bit",
   "name": "python3"
  },
  "language_info": {
   "codemirror_mode": {
    "name": "ipython",
    "version": 3
   },
   "file_extension": ".py",
   "mimetype": "text/x-python",
   "name": "python",
   "nbconvert_exporter": "python",
   "pygments_lexer": "ipython3",
   "version": "3.10.0"
  },
  "orig_nbformat": 4
 },
 "nbformat": 4,
 "nbformat_minor": 2
}
